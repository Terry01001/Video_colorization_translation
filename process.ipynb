{
 "cells": [
  {
   "cell_type": "code",
   "execution_count": 5,
   "metadata": {},
   "outputs": [
    {
     "name": "stdout",
     "output_type": "stream",
     "text": [
      "Concatenated video saved to ./results\\Chaplin_Factory_concatenated_videos.mp4\n"
     ]
    }
   ],
   "source": [
    "import cv2\n",
    "import os\n",
    "\n",
    "def read_video_frames(video_path):\n",
    "    \"\"\"Read frames from a video file.\"\"\"\n",
    "    cap = cv2.VideoCapture(video_path)\n",
    "    frames = []\n",
    "    while cap.isOpened():\n",
    "        ret, frame = cap.read()\n",
    "        if not ret:\n",
    "            break\n",
    "        frames.append(frame)\n",
    "    fps = cap.get(cv2.CAP_PROP_FPS)\n",
    "    cap.release()\n",
    "    return frames, fps\n",
    "\n",
    "def concatenate_frames(frames_list):\n",
    "    \"\"\"Concatenate frames horizontally.\"\"\"\n",
    "    concatenated_frames = []\n",
    "    for frames in zip(*frames_list):\n",
    "        concatenated_frame = cv2.hconcat(frames)\n",
    "        concatenated_frames.append(concatenated_frame)\n",
    "    return concatenated_frames\n",
    "\n",
    "def write_video(frames, output_path, fps):\n",
    "    \"\"\"Write frames to a video file.\"\"\"\n",
    "    height, width, layers = frames[0].shape\n",
    "    size = (width, height)\n",
    "    out = cv2.VideoWriter(output_path, cv2.VideoWriter_fourcc(*'mp4v'), fps, size)\n",
    "    \n",
    "    for frame in frames:\n",
    "        out.write(frame)\n",
    "    out.release()\n",
    "\n",
    "def main():\n",
    "    # Paths to the video files\n",
    "    base_dir = './results'\n",
    "    filename = 'Chaplin_Factory'\n",
    "    video_paths = [\n",
    "        os.path.join(base_dir, f'color_pix2pix/{filename}_colorization.mp4'),\n",
    "        os.path.join(base_dir, f'style_monet_pretrained/{filename}_output.mp4'),\n",
    "        os.path.join(base_dir, f'style_cezanne_pretrained/{filename}_output.mp4'),\n",
    "        os.path.join(base_dir, f'style_ukiyoe_pretrained/{filename}_output.mp4'),\n",
    "        os.path.join(base_dir, f'style_vangogh_pretrained/{filename}_output.mp4')\n",
    "    ]\n",
    "    \n",
    "    # Read frames from each video\n",
    "    frames_list = [read_video_frames(video_path)[0] for video_path in video_paths]\n",
    "\n",
    "    # Get FPS from one of the videos\n",
    "    _, fps = read_video_frames(video_paths[0])\n",
    "\n",
    "    # Ensure all videos have the same number of frames\n",
    "    min_frames = min(len(frames) for frames in frames_list)\n",
    "    frames_list = [frames[:min_frames] for frames in frames_list]\n",
    "\n",
    "    # Concatenate frames horizontally\n",
    "    concatenated_frames = concatenate_frames(frames_list)\n",
    "\n",
    "    # Write the concatenated frames to a new video file\n",
    "    output_path = os.path.join(base_dir, f'{filename}_concatenated_videos.mp4')\n",
    "    write_video(concatenated_frames, output_path, fps)\n",
    "    print(f'Concatenated video saved to {output_path}')\n",
    "\n",
    "if __name__ == \"__main__\":\n",
    "    main()\n"
   ]
  },
  {
   "cell_type": "code",
   "execution_count": 3,
   "metadata": {},
   "outputs": [
    {
     "name": "stdout",
     "output_type": "stream",
     "text": [
      "Extracted frames saved to ./results/Beatles_extracted_frames.mp4\n"
     ]
    }
   ],
   "source": [
    "def extract_frames(video_path, start_frame, end_frame, output_path):\n",
    "    \"\"\"Extract a range of frames from a video file.\"\"\"\n",
    "    cap = cv2.VideoCapture(video_path)\n",
    "    fps = cap.get(cv2.CAP_PROP_FPS)\n",
    "    width = int(cap.get(cv2.CAP_PROP_FRAME_WIDTH))\n",
    "    height = int(cap.get(cv2.CAP_PROP_FRAME_HEIGHT))\n",
    "    size = (width, height)\n",
    "\n",
    "    out = cv2.VideoWriter(output_path, cv2.VideoWriter_fourcc(*'mp4v'), fps, size)\n",
    "    \n",
    "    frame_count = 0\n",
    "    while cap.isOpened():\n",
    "        ret, frame = cap.read()\n",
    "        if not ret:\n",
    "            break\n",
    "        if start_frame <= frame_count < end_frame:\n",
    "            out.write(frame)\n",
    "        frame_count += 1\n",
    "\n",
    "    cap.release()\n",
    "    out.release()\n",
    "    print(f'Extracted frames saved to {output_path}')\n",
    "\n",
    "# Example usage to extract frames from 100 to 200\n",
    "filename = 'Beatles'\n",
    "video_path = f'./results/{filename}_concatenated_videos.mp4'\n",
    "start_frame = 100\n",
    "end_frame = 200\n",
    "output_path = f'./results/{filename}_extracted_frames.mp4'\n",
    "extract_frames(video_path, start_frame, end_frame, output_path)\n",
    "\n"
   ]
  }
 ],
 "metadata": {
  "kernelspec": {
   "display_name": "base",
   "language": "python",
   "name": "python3"
  },
  "language_info": {
   "codemirror_mode": {
    "name": "ipython",
    "version": 3
   },
   "file_extension": ".py",
   "mimetype": "text/x-python",
   "name": "python",
   "nbconvert_exporter": "python",
   "pygments_lexer": "ipython3",
   "version": "3.8.19"
  }
 },
 "nbformat": 4,
 "nbformat_minor": 2
}
